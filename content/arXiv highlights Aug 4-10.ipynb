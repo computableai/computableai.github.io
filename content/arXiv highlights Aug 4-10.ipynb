{
 "cells": [
  {
   "cell_type": "markdown",
   "metadata": {},
   "source": [
    "- title: arXiv highlights Aug 4-10 2019\n",
    "- summary: Traffic signal control comparing supervised learning, random search, and deep reinforcement learning\n",
    "- author: Daniel Cox\n",
    "- date: 2019-08-11\n",
    "- category: arXiv highlights\n",
    "- image: /static/images/arXiv.gif"
   ]
  },
  {
   "cell_type": "markdown",
   "metadata": {},
   "source": [
    "# This week\n",
    "\n",
    "This week's paper, [Large-scale traffic signal control using machine learning: some traffic flow considerations](https://arxiv.org/abs/1908.02673v1), caught my eye for several reasons. First, traffic signal control is relevant to my own group's work involving microservice and network traffic management. Second, the authors use cellular automaton rule 184 as their traffic model, which is actually the first time I've seen a cellular automaton used for something serious since [A New Kind of Science](https://www.wolframscience.com/nks/), despite that book's claim about the likely broad usefulness of simple programs for complex purposes. Lastly, the authors find that supervised learning and random search outperform deep reinforcement learning for high-occupancies of the traffic flow network,\n",
    "\n",
    "> For occupancies > 75% during training, DRL policies perform very poorly for all traffic conditions, which means that DRL methods cannot learn under highly congested conditions.\n",
    "\n",
    "and that they recommend practitioners _throw away_ congested data!\n",
    "\n",
    "> Our findings imply that it is advisable for current DRL methods in the literature to discard any congested data when training, and that doing this will improve their performance under all traffic conditions.\n",
    "\n",
    "I also have to admit that I've thought to myself, waiting at empty intersections for a light to turn green, that I could just _solve_ this problem with DRL. If I'm wrong, that would be very interesting and surprising."
   ]
  },
  {
   "cell_type": "markdown",
   "metadata": {},
   "source": [
    "# Considerations in a nutshell\n",
    "\n",
    "The introduction and background are well summarized in their last paragraph:\n",
    "\n",
    "> In summary, most recent studies focus on developing effective and robust multi-agent DRL algorithms to achieve coordination among intersections. The number of intersections in those studies are usually limited, thus their results might not apply to large open network. Although the signal control is indeed a continuing problem, it has been always modeled as an episodic process. From the perspective of traffic considerations, expert knowledge has only been incorporated in down-scaling the size of the control problem or designing novel reward functions for DRL algorithm. Few studies have tested their methods given different traffic demands, or shed lights on the learning performance under different traffic conditions, especially the congestion regimes. To fill the gap, our study will treat the large-scale traffic control as a continuing problem and extend classical RL algorithm to fit it. More importantly, noticing the lack of traffic considerations on learning performance, we will train DRL policies under different density levels and explore the results from a traffic flow perspective.\n"
   ]
  },
  {
   "cell_type": "markdown",
   "metadata": {},
   "source": [
    "# Set up\n",
    "\n",
    "## Traffic\n",
    "\n",
    "![CA Rule 184](http://atlas.wolfram.com/01/01/184/01_01_108_184.gif#right)\n",
    "\n",
    "This is elementary cellular automaton (CA) rule 184. Elementary cellular automata operate on a binary vector, producing a new binary vector in each step that's a function of the previous one. For each entry in the previous vector, the new value of the corresponding entry in the resulting vector depends on the previous entry and its neighbors to the left and right. There are 256 possible rules with this formulation, and this picture is of the 184th rule set when ordered in the natural way.\n",
    "\n",
    "Rule 184 can be thought of as a flow of cars along a lane of traffic. Cars move forward (right) by one cell each step only if there is an open space in front of them, otherwise they wait for one to open up. Here's an example:"
   ]
  },
  {
   "cell_type": "code",
   "execution_count": 1,
   "metadata": {},
   "outputs": [
    {
     "name": "stdout",
     "output_type": "stream",
     "text": [
      "t0:\t 🚘 🚘 🚘 🚘 🚘 _ _ 🚘 _ _ _ _ _ _ _\n",
      "t1:\t 🚘 🚘 🚘 🚘 _ 🚘 _ _ 🚘 _ _ _ _ _ _\n",
      "t2:\t 🚘 🚘 🚘 _ 🚘 _ 🚘 _ _ 🚘 _ _ _ _ _\n",
      "t3:\t 🚘 🚘 _ 🚘 _ 🚘 _ 🚘 _ _ 🚘 _ _ _ _\n",
      "t4:\t 🚘 _ 🚘 _ 🚘 _ 🚘 _ 🚘 _ _ 🚘 _ _ _\n",
      "t5:\t _ 🚘 _ 🚘 _ 🚘 _ 🚘 _ 🚘 _ _ 🚘 _ _\n",
      "t6:\t _ _ 🚘 _ 🚘 _ 🚘 _ 🚘 _ 🚘 _ _ 🚘 _\n"
     ]
    }
   ],
   "source": [
    "def rule_184(lane):\n",
    "    l = [False] + lane + [False] # pad\n",
    "    return [(l[i-1] and not l[i]) or (l[i] and l[i+1])\n",
    "            for i in range(1,len(l)-1)]\n",
    "\n",
    "def show(t, lane):\n",
    "    print(f't{t}:\\t', ' '.join(['🚘' if i else '_' for i in lane]) )\n",
    "\n",
    "ti = [True, True, True, True, True, False, False, True, False, False, False, False, False, False, False]\n",
    "\n",
    "for i in range(7):\n",
    "    show(i, ti)\n",
    "    ti = rule_184(ti)\n"
   ]
  },
  {
   "cell_type": "markdown",
   "metadata": {},
   "source": [
    "The cellular automaton simulates a lane of traffic, and the authors wire two of these lanes up between each adjacent traffic light to create a grid network. The network is laid out on a torus, so there are no boundaries.\n",
    "\n",
    "> The signalized network corresponds to a homogeneous grid network of bidirectional streets, with one lane per direction of length $n = 5$ cells between neighboring traffic lights.\n",
    "\n",
    "![Signalized network]({static}/images/signalized_network.png)\n",
    "\n",
    "> The connecting links to form the torus are shown as dashed directed links; we have omitted the cells on these links to avoid clutter. Each segment has n = 5 cells; an additional cell has been added downstream of each segment to indicate the traffic light color.\n",
    "\n",
    "Cars arriving at a green traffic light choose a random \"direction\" in which to continue. Green lights are on for a minimum of three steps."
   ]
  },
  {
   "cell_type": "markdown",
   "metadata": {},
   "source": [
    "## Learning\n",
    "\n",
    "Each traffic signal is managed by an agent, which has two actions it can take at any time step: turn the light red/green for the North-South approaches, or the opposite. The state observable by each agent is an $8\\times n$ matrix of bits corresponding to the four incoming and four outgoing CA vectors, and the output is the probability of turning the light red for the North-South approaches. Only one neural net is actually trained, and used by all agents, since there's no reason for them to be different in this formulation. For the DRL agent, the reward is the _incremental_ average flow per lane (not the average flow per lane), which the authors mention is lower-variance. The authors use a custom infinite-horizon variant of REINFORCE they call REINFORCE-TD."
   ]
  },
  {
   "cell_type": "markdown",
   "metadata": {},
   "source": [
    "# Experiments\n",
    "\n",
    "The authors use a maximum-queue-first (LQF) greedy algorithm as their baseline for comparison, which services the lane with the longest queue length at all times.\n",
    "\n",
    "## Random policies\n",
    "\n",
    "![Figure 4]({static}/images/traffic_signals_figure4.png)\n",
    "\n",
    "They begin by randomly reinitializing the parameters of the neural network, and discover that ~15% of random policies are competitive (that is, they can outperform LQF for some traffic densities). They also note a previously undiscovered pattern that \"all policies, no matter how bad, are best when the density exceeds approximately 75%.\" How odd.\n",
    "\n",
    "## Supervised learning policies\n",
    "\n",
    "![Figure 5]({static}/images/traffic_signals_figure5.png)\n",
    "\n",
    "They then train a policy with supervised learning, and surprisingly, with only the two obvious extreme examples, the resulting policy is near-optimal.\n",
    "\n",
    "## DRL policies\n",
    "\n",
    "![Figure 6]({static}/images/traffic_signals_figure6.png)\n",
    "\n",
    "> Policies trained with constant demand and random initial parameters $\\theta$. The label in each diagram gives the iteration number and the constant density value. First column: NS red probabilities of the extreme states, $\\pi(s1)$ in dashed line and $\\pi(s2)$ in solid line. The remaining columns show the flow-density diagrams obtained at different iterations, and the last column shows the iteration producing the highest flow at $k = 0.5$, if not reported on a earlier column.\n",
    "\n",
    "Finally, they run two experiments with DRL policies, as described above. These policies seem to do rather poorly in general compared to random search and supervised learning, and as density increases, they stop learning much of anything.\n",
    "\n",
    "> We conjecture that this result is a consequence of a property of congested urban networks and has nothing to do with the algorithm to train the DRL policy.\n",
    "\n",
    "I'm skeptical. See my parting thoughts.\n",
    "\n",
    "The other experiments the authors perform just confirms that average flow per lane does worse than incremental average flow per lane."
   ]
  },
  {
   "cell_type": "markdown",
   "metadata": {},
   "source": [
    "# Parting thoughts\n",
    "\n",
    "1. In the end, I'm way more interested in the experimental setup of this paper than the conclusions. As usual, I learned a ton, and I may actually use rule 184 as a model for traffic flow on something.\n",
    "2. Isn't it _obvious_ given their problem formulation that the agents can't learn under conditions of congestion, since it means their input is essentially whited out? I would be more impressed with the conclusion if a neural net with complete visibility had trouble learning with congestion. It also seems to me _extremely_ suggestive that a supervised policy can learn from only two examples, and I would very much like to see if the major conclusions of this paper explode with a more realistic network topology. Queueing theory contains all sorts of counterintuitive surprises, and it seems likely to me that their results are more indicative of one of those surprises, rather than some deep fact about DRL's ability to manage urban congestion.\n",
    "3. It's interesting that they formulate the problem as a continuing one, against the prevailing trend in the traffic signal control literature. I agree with them, that even if you get to a state where there's no traffic, that's a function of the demand, not of the agent's choices. I bring this up because I too have found that it's _really quite important_ to recognize an infinite-horizon problem when you have one, or else your agent learns to rack up debts until the end of the artificial episode when all is \"forgiven\".\n",
    "4. It's fascinating that all random policies, no matter how bad, are best around 75% congestion. I have been admonished to avoid scheduling myself at more than 70% capacity to avoid the ringing effect. I wonder if this is an empirical vindication of that..."
   ]
  }
 ],
 "metadata": {
  "kernelspec": {
   "display_name": "Python 3",
   "language": "python",
   "name": "python3"
  },
  "language_info": {
   "codemirror_mode": {
    "name": "ipython",
    "version": 3
   },
   "file_extension": ".py",
   "mimetype": "text/x-python",
   "name": "python",
   "nbconvert_exporter": "python",
   "pygments_lexer": "ipython3",
   "version": "3.6.8"
  }
 },
 "nbformat": 4,
 "nbformat_minor": 2
}
