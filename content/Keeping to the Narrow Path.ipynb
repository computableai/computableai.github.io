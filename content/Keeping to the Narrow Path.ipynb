{
 "cells": [
  {
   "cell_type": "markdown",
   "metadata": {},
   "source": [
    "- title: Keeping to the Narrow Path\n",
    "- summary: Better imitation learning with self-correcting policies by negative sampling.\n",
    "- author: Daniel Cox\n",
    "- date: 2019-07-21\n",
    "- category: arXiv highlights\n",
    "- image: /static/images/arXiv.gif"
   ]
  },
  {
   "cell_type": "markdown",
   "metadata": {},
   "source": [
    "# This week\n",
    "\n",
    "This week's highlight is a paper on imitation learning: [Learning Self-Correctable Policies and Value Functions from Demonstrations with Negative Sampling](https://arxiv.org/abs/1907.05634), chosen again for pragmatic reasons. The problem my team is currently working on has both reasons for wanting high sample efficiency: training would be prohibitively slow without something to kickstart it, and actions taken in the real world can get expensive.\n",
    "\n",
    "I know I said I'd be experimenting with shorter, more bite-sized posts, but... next time. (If you want that, you can just stop reading after the \"Key intuition\" section.)"
   ]
  },
  {
   "cell_type": "markdown",
   "metadata": {},
   "source": [
    "# The problem\n",
    "\n",
    "Learning from demonstrations is more difficult than it may seem at first glance. The trouble mainly stems from covariate shift: the input distribution your agent will see in production is very likely to be different than that encountered during training. Many machine learning algorithms have this problem, reinforcement learning algorithms included, but imitation learning has it especially bad, for a simple reason: the expert demonstrations you are attempting to follow necessarily explore a very small subset of the state space. The whole _point_ of them is to stay on good trajectories, meaning bad trajectories never get explored.\n",
    "\n",
    "This causes two issues:\n",
    "\n",
    "1. The agent can't in general figure out how to get back into the subset of state space where the expert demonstrations apply, even if it gets only slightly off-course, and\n",
    "2. Value functions for states and actions are affected by unseen states, making it very _likely_ that the agent will wander off as soon as it's allowed."
   ]
  },
  {
   "cell_type": "markdown",
   "metadata": {},
   "source": [
    "# Key intuition\n",
    "\n",
    "The authors solve this problem by pre-training with supervised learning using a loss function that drives down the value of all states outside of those explored in the expert demonstrations $U$, by an amount proportional to their Euclidean distance from the closest state in $U$. In their own words:\n",
    "\n",
    "> Consider a state $s$ in the demonstration and its nearby state $\\tilde{s}$ that is not in the demonstration. The key intuition is that $\\tilde{s}$ should have a lower value than $s$, because otherwise $\\tilde{s}$ likely should have been visited by the demonstrations in the first place. If a value function has this property for most of the pair $(s,\\tilde{s})$ of this type, the corresponding policy will tend to correct its errors by driving back to the demonstration states because the demonstration states have locally higher values.\n",
    "\n",
    "And Figure 1 is a nice visual demonstration:\n",
    "\n",
    "<a href=\"{static}/images/VINS_Figure_1.jpeg\"><img alt=\"VINS Figure 1\" src=\"{static}/images/VINS_Figure_1.jpeg\" /></a>"
   ]
  },
  {
   "cell_type": "markdown",
   "metadata": {},
   "source": [
    "# Value Iteration with Negative Sampling (VINS)\n",
    "\n",
    "Into the weeds now.\n",
    "\n",
    "## Self-correctable policy\n",
    "\n",
    "The first bit of their algorithm is the definition of their self-correcting policy. It's essentially a formalization of what we said above about $s$ and $\\tilde{s}$.\n",
    "\n",
    "If $s \\in U$ (if $s$ is in the expert demonstrations), then $$V(s) = V^{\\pi_e}(s) \\pm \\delta_V$$ (\"just what the value would be in the expert demonstrations, plus some error\").\n",
    "\n",
    "But if $s \\not\\in U$, $$V(s) = V^{\\pi_e}(\\Pi_U(s)) - \\lambda \\|s-\\Pi_U(s)\\| \\pm \\delta_V$$ (where $\\Pi_U$ gives the closest $s \\in U$, so $V(s)$ is \"the value of the closest $s \\in U$, _minus the distance to that_ $s \\in U$, plus some error\")\n",
    "\n",
    "Then the induced policy from this value function is $$\\pi(s) \\triangleq \\underset{a: \\|a-\\pi_{BC}(s)\\|\\le \\zeta}{\\operatorname{argmax}} ~V(M(s, a))$$\n",
    "\n",
    "Where $M(s,a)$ is a learned dynamical model of the environment that gives the next state given the current state and action. $\\pi_{BC}(s)$ is the \"behavioral clone\" policy from the expert demonstrations.\n",
    "\n",
    "## RL algorithm\n",
    "\n",
    "To actually achieve $V(M(s,a))$ with the necessary properties, they select a state $s$ from the demonstrations, perturb it a bit to get $\\tilde{s}$ nearby, and use the original state $s$ to approximate $\\Pi_U(\\tilde{s})$ in the following loss function.\n",
    "\n",
    "$$\\mathcal{L}_{ns}(\\phi)= \\mathbf{E}_{s \\sim \\rho^{\\pi_e}, \\tilde{s} \\sim perturb(s)} \\left(V_{\\bar \\phi}(s) - \\lambda \\|s-\\tilde{s}\\|- V_\\phi(\\tilde{s}) \\right)^2$$\n",
    "\n",
    "Finally, here's the algorithm that uses this and the earlier policy definition:\n",
    "\n",
    "![VINS Algorithm 2]({static}/images/VINS_Algorithm_2.jpeg#center)"
   ]
  },
  {
   "cell_type": "markdown",
   "metadata": {},
   "source": [
    "# Parting thoughts\n",
    "\n",
    "1. I thought it was quite strange that they learned $V(s)$ and a dynamical model $M(s,a)$, and then used $V(M(s,a))$ in the algorithm. I thought, \"Why not just learn $Q$?\" The answer was given in their Section A appendix, and was quite interesting. I'm not sure it applies to our case, but it's important. TL;DR $Q(s,a)$ learned from demonstrations _alone_ is degenerate, because there's always a $Q$ that perfectly matches the demonstrations _and doesn't depend at all on_ $a$. \n",
    "2. One of my coworkers (and upcoming Computable author!) wondered to me if the induced policy could be made explicit, by explicitly training a policy network to bring the agent back into safe territory. It could be trained with gradient descent, because $V(M(s,a))$ are just networks, and the technique for training deterministic policies just follows the gradient of the $Q$ function. I wonder too."
   ]
  }
 ],
 "metadata": {
  "kernelspec": {
   "display_name": "Python 3",
   "language": "python",
   "name": "python3"
  },
  "language_info": {
   "codemirror_mode": {
    "name": "ipython",
    "version": 3
   },
   "file_extension": ".py",
   "mimetype": "text/x-python",
   "name": "python",
   "nbconvert_exporter": "python",
   "pygments_lexer": "ipython3",
   "version": "3.6.8"
  }
 },
 "nbformat": 4,
 "nbformat_minor": 2
}
