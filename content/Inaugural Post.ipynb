{
 "cells": [
  {
   "cell_type": "markdown",
   "metadata": {},
   "source": [
    "- title: Inaugural Post\n",
    "- author: Daniel Cox\n",
    "- summary: A purpose statement and introduction\n",
    "- date: 2019-02-16"
   ]
  },
  {
   "cell_type": "markdown",
   "metadata": {},
   "source": [
    "This post begins the Computable AI blog, a machine intelligence blog from a handful of DRL practitioners, intended to crystalize, internalize, share, and explain.\n",
    "\n",
    "I found few beginner resources for DRL when I began, and since I have a passion for teaching, this seemed a likely area in which to make a dent.\n",
    "\n",
    "I also serve as the \"Director of Applied Sciences\" for a startup software company, and the AI team must occasionally indoctrinate new members. This provides us with a convenient target audience, as well as an expanding pool of co-authors.\n",
    "\n",
    "Finally, my own education in DRL is incomplete, so this will serve partly as a record of my own journey.\n",
    "\n",
    "I hope it helps you."
   ]
  }
 ],
 "metadata": {
  "kernelspec": {
   "display_name": "Python 3",
   "language": "python",
   "name": "python3"
  },
  "language_info": {
   "codemirror_mode": {
    "name": "ipython",
    "version": 3
   },
   "file_extension": ".py",
   "mimetype": "text/x-python",
   "name": "python",
   "nbconvert_exporter": "python",
   "pygments_lexer": "ipython3",
   "version": "3.6.8"
  }
 },
 "nbformat": 4,
 "nbformat_minor": 2
}
