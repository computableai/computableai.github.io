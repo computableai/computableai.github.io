{
 "cells": [
  {
   "cell_type": "markdown",
   "metadata": {},
   "source": [
    "- title: DRL Not Superhuman on Atari\n",
    "- summary: DRL may not be superhuman on Atari after all, and how to avoid making mistakes like that in the future.\n",
    "- author: Daniel Cox\n",
    "- date: 2019-08-18\n",
    "- category: arXiv highlights\n",
    "- image: /static/images/arXiv.gif"
   ]
  },
  {
   "cell_type": "markdown",
   "metadata": {},
   "source": [
    "# This week\n",
    "\n",
    "Just a sketch this week, calling your attention to [Is Deep Reinforcement Learning Really Superhuman on Atari?](https://arxiv.org/abs/1908.04683v1), which concludes not only that DRL is worse than the best humans on most Atari games, but by a _wide_ margin."
   ]
  },
  {
   "cell_type": "markdown",
   "metadata": {},
   "source": [
    "# DRL _isn't_ superhuman on Atari yet\n",
    "\n",
    "Wait, what? I was quite skeptical of this claim. Mnih et al. published the groundbreaking [Playing Atari with Deep Reinforcement Learning](https://arxiv.org/abs/1312.5602) in _2013_, claiming superhuman performance. Surely someone would have noticed by now?\n",
    "\n",
    "Apparently not, and then most DRL algorithms for the next six years used either the same human scores reported in that paper, or human beginners. It's true that DQN significantly outperformed their own human player, but that player was not, by far, _the best in the world_. Other recent claims of superhuman performance have proven that claim against the best players in the world (the paper mentions AlphaGo against Lee Sedol, OpenAI Five against OG, and AlphaStar against Mana), but not for the Atari benchmark.\n",
    "\n",
    "The most poignant detail to me in this paper involved the common \"normalized human score\", where 0% is the score of a random agent, and 100% is the score of the human baseline. _On this scale, the median score achieved by the world record holders across all Atari games is 4.4k%_. Clearly you can't claim superhuman performance if there are humans who beat your target by a factor of 44, unless you yourself exceed this score.\n",
    "\n",
    "For reference, the original Rainbow algorithm achieved a median of 200% over all Atari games, and other algorithms seem to do worse. If the normalized human score is fitted to a maximum equal to the human world record for each game, and run with different time limits, a tuned IQN variant of Rainbow receives a median score of less than 4% (there were other problems with the way benchmarks were done, and correcting for them reduces performance even further).\n",
    "\n",
    "We have a long way to go then. The paper has a useful analysis drawing on both previous and original research as to _why_ DRL algorithms are so bad at Atari, and I encourage a careful reading. Some of them, such as reward clipping, are called out in previous research as explicitly chosen to improve performance, but (to treat this particular example), it has been mentioned that this causes the agent to prefer many small rewards over a single large reward.\n",
    "\n",
    "I encourage anyone working with the Atari benchmark to read the paper for themselves."
   ]
  },
  {
   "cell_type": "markdown",
   "metadata": {},
   "source": [
    "# Parting thoughts\n",
    "\n",
    "1. I actually find it somewhat personally encouraging that there's room for improvement on Atari. It's easy to experiment, and I have some ideas myself.\n",
    "2. That said, it is rather scary that we could overlook something like this for so long, as a community.\n",
    "3. Anyway, _someone_ will take this as a call to arms, and make progress. Peter Drucker said, \"If you can't measure it, you can't improve it.\" Now that we have better measurements, I predict improvements."
   ]
  }
 ],
 "metadata": {
  "kernelspec": {
   "display_name": "Python 3",
   "language": "python",
   "name": "python3"
  },
  "language_info": {
   "codemirror_mode": {
    "name": "ipython",
    "version": 3
   },
   "file_extension": ".py",
   "mimetype": "text/x-python",
   "name": "python",
   "nbconvert_exporter": "python",
   "pygments_lexer": "ipython3",
   "version": "3.6.8"
  }
 },
 "nbformat": 4,
 "nbformat_minor": 2
}
