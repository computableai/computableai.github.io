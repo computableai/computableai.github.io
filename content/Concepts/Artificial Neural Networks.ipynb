{
 "cells": [
  {
   "cell_type": "markdown",
   "metadata": {},
   "source": [
    "- title: Artificial Neural Networks\n",
    "- summary: Simple math, over and over\n",
    "- date: 2019-02-26\n",
    "- status: draft"
   ]
  },
  {
   "cell_type": "markdown",
   "metadata": {},
   "source": [
    "Artificial Neural Networks (ANNs) are ridiculously effective at tasks impossible only a few years ago. This doesn't mean they're too complicated for you to understand. Their individual pieces are simple, and they combine in a simple way.\n",
    "\n",
    "## Perceptron\n",
    "\n",
    "This is a single neuron, also called a \"perceptron\":\n",
    "\n",
    "![Perceptron]({static}/images/perceptron.png)\n",
    "\n",
    "Inputs are numbers. The output is a single number. The magic is in what the neuron does with the input numbers to produce the output number.\n",
    "\n",
    "![Perceptron Details]({static}/images/perceptron_details.png)"
   ]
  },
  {
   "cell_type": "code",
   "execution_count": null,
   "metadata": {},
   "outputs": [],
   "source": []
  }
 ],
 "metadata": {
  "kernelspec": {
   "display_name": "Python 3",
   "language": "python",
   "name": "python3"
  },
  "language_info": {
   "codemirror_mode": {
    "name": "ipython",
    "version": 3
   },
   "file_extension": ".py",
   "mimetype": "text/x-python",
   "name": "python",
   "nbconvert_exporter": "python",
   "pygments_lexer": "ipython3",
   "version": "3.6.8"
  }
 },
 "nbformat": 4,
 "nbformat_minor": 2
}
