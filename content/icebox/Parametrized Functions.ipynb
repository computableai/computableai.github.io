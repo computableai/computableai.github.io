{
 "cells": [
  {
   "cell_type": "markdown",
   "metadata": {},
   "source": [
    "- title: Parametrized Functions\n",
    "- date: 2019-03-01\n",
    "- status: draft\n",
    "- summary: "
   ]
  },
  {
   "cell_type": "markdown",
   "metadata": {},
   "source": [
    "$f(x)$ is a function of $x$. That is, if you supply some value for $x$, it will return some other value. The value it returns depends on exactly *what* function $f(x)$ is.\n",
    "\n",
    "Let's say $f(x)=mx+b$, which is the equation for a line. $m$ is the slope, and $b$ is the intercept. This probably doesn't surprise you, which is why it makes such a good example.\n",
    "\n",
    "$f$ is a function, and if you don't specify a specific $m$ and a specific $b$, then it's a *parametrized* function.  This means you can change how $f$ behaves by supplying different *parameters*. $m$ and $b$ are the parameters of $f_{a,b}(x)=mx+b$. Often to make this completely clear, the parameters of the function are dumped into a subscript, like this: $f_{a,b}(x)$."
   ]
  },
  {
   "cell_type": "code",
   "execution_count": null,
   "metadata": {},
   "outputs": [],
   "source": []
  }
 ],
 "metadata": {
  "kernelspec": {
   "display_name": "Python 3",
   "language": "python",
   "name": "python3"
  },
  "language_info": {
   "codemirror_mode": {
    "name": "ipython",
    "version": 3
   },
   "file_extension": ".py",
   "mimetype": "text/x-python",
   "name": "python",
   "nbconvert_exporter": "python",
   "pygments_lexer": "ipython3",
   "version": "3.6.8"
  }
 },
 "nbformat": 4,
 "nbformat_minor": 2
}
