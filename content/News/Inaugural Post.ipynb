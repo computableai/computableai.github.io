{
 "cells": [
  {
   "cell_type": "markdown",
   "metadata": {},
   "source": [
    "- title: Inaugural Post\n",
    "- summary: A purpose statement and introduction to this blog\n",
    "- date: 2019-02-16"
   ]
  },
  {
   "cell_type": "markdown",
   "metadata": {},
   "source": [
    "This post inaugurates the Computable AI blog, a learning resource, research tool, and (eventually) a community for machine learning researchers and practitioners, as well as anyone who wants to become one of those in any capacity. My focus is generally on the most promising avenues to grant machines human-like intelligence, with a special focus on artificial neural networks and deep reinforcement learning.\n",
    "\n",
    "The Morning Paper, by Adrian Colyer, is one of the inspirations for this blog. Like him, I wanted to crystalize and share what I’ve learned, and work it into my bones by engaging with it every day. His daily post schedule isn’t sustainable for me right now, but I think I can get many of the same benefits by posting regularly, with an eye towards daily contributions.\n",
    "\n",
    "I also wanted to make a contribution to this field, and since I had a hard time finding beginner resources in Deep Reinforcement Learning myself when I first began, this seemed like a good place for me to make a sizable dent. I’ll spend a lot of time dissecting papers, videos, blog posts, and individual concepts to help make sense of what’s going on. I also believe that intermediate and advanced enthusiasts and professionals will be improved by a firmer grasp not only of the basics, but of each new development as well. I mean to be as clear as possible, and I resolve now never to hide a lack of understanding behind jargon or other obscurity. If you find yourself confused, please say so in the comments or tell me on Twitter, and I’ll try to clarify.\n",
    "\n",
    "To this end, the posts each have Jupyter notebook source code, and I’m making the repository available for interaction using Binder. I’ll call attention to posts that require extra resources or explanations to run.\n",
    "This entire site is public on GitHub under the MIT license, so please feel free to correct me, suggest improvements, and otherwise contribute.\n",
    "\n",
    "By the way, I speak only English, but I would love to make the content here available to speakers of other languages. Pelican (the static site generator I’m using) supports this, so please feel free to fork and submit translation PRs."
   ]
  }
 ],
 "metadata": {
  "kernelspec": {
   "display_name": "Python 3",
   "language": "python",
   "name": "python3"
  },
  "language_info": {
   "codemirror_mode": {
    "name": "ipython",
    "version": 3
   },
   "file_extension": ".py",
   "mimetype": "text/x-python",
   "name": "python",
   "nbconvert_exporter": "python",
   "pygments_lexer": "ipython3",
   "version": "3.6.8"
  }
 },
 "nbformat": 4,
 "nbformat_minor": 2
}
