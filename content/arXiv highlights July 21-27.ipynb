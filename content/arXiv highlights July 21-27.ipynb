{
 "cells": [
  {
   "cell_type": "markdown",
   "metadata": {},
   "source": [
    "- title: arXiv highlights July 21-27 2019\n",
    "- summary: Efficient exploration with self-imitation learning.\n",
    "- author: Daniel Cox\n",
    "- date: 2019-07-28\n",
    "- category: arXiv highlights\n",
    "- image: /static/images/arXiv.gif"
   ]
  },
  {
   "cell_type": "markdown",
   "metadata": {},
   "source": [
    "# This week\n",
    "\n",
    "Several paper caught my eye this week, but I'll be discussing only [Efficient Exploration with Self-Imitation Learning via Trajectory-Conditioned Policy](https://arxiv.org/abs/1907.10247) in more depth. I'm choosing this paper because, as happens sometimes, I had this idea myself a few weeks ago. It's especially exciting to see something you suspected might improve the world fleshed out and vindicated.\n",
    "\n",
    "This is the basic form of my shower-throught idea:\n",
    "\n",
    "> This paper investigates the imitation of diverse past trajectories and how that leads [to] further exploration and avoids getting stuck at a sub-optimal behavior. Specifically, we propose to use a buffer of the past trajectories to cover diverse possible directions. Then we learn a trajectory-conditioned policy to imitate any trajectory from the buffer, treating it as a demonstration. After completing the demonstration, the agent performs random exploration."
   ]
  },
  {
   "cell_type": "markdown",
   "metadata": {},
   "source": [
    "# The problem\n",
    "\n",
    "![Maze]({static}/images/maze_icon_map.png#right)\n",
    "\n",
    "The main problem the authors want to solve is insufficient exploration leading to a sub-optimal policy. If you don't explore your environment enough, you will find local rewards, but miss globally optimal rewards. In this maze (their Figure 1), you can see that an agent that fails to explore will collect two apples in the next room, but may miss acquiring the key, unlocking the door, collecting an apple, and discovering the treasure.\n",
    "\n",
    "In the notoriously difficult Atari game (for RL agents) Montezuma's Revenge, it is similarly extremely unlikely that random exploration suffices to explore the environment and achieve a high score. The authors report state-of-the-art performance without expert demonstrations on Montezuma's Revenge, netting 25k points."
   ]
  },
  {
   "cell_type": "markdown",
   "metadata": {},
   "source": [
    "# SOTA without demonstrations\n",
    "\n",
    "So, more precisely, how did they achieve this, and why does it work?\n",
    "\n",
    "> The main idea of our method is to maintain a buffer of diverse trajectories collected during training and to train a trajectory-conditioned policy by leveraging reinforcement learning and supervised learning to roughly follow demonstration trajectories sampled from the trajectory buffer. Therefore, the agent is encouraged to explore beyond various visited states in the environment and gradually push its exploration frontier further... We name our method as Diverse Trajectory-conditioned Self-Imitation Learning (DTSIL).\n",
    "\n",
    "## The trajectory buffer\n",
    "\n",
    "Their trajectory buffer $\\mathcal{D}$ contains $N$ 3-tuples $\\{\\left(e^{(1)}, \\tau^{(1)}, n^{(1)}\\right), \\left(e^{(2)}, \\tau^{(2)}, n^{(2)}\\right), \\ldots \\left(e^{(N)}, \\tau^{(N)}, n^{(N)}\\right) \\}$ where $e^{(i)}$ is a high-level state representation, $\\tau^{(i)}$ is the shortest trajectory achieving the highest reward and arriving at $e^{(i)}$, and $n^{(i)}$ is the number of times $e^{(i)}$ has been encountered. Whenever they roll out a new episode, they check each high-level state representation encountered against those in $\\mathcal{D}$, increment $n$, and if $\\tau$ is better they replace $\\tau$ for that entry.\n",
    "\n",
    "## Sampling\n",
    "\n",
    "When training their trajectory-conditioned policy, they sample each 3-tuple with weight ${1}\\over{\\sqrt{n^{(i)}}}$. Notice that this will cause them to sample _less_ frequently-visited states more often, encouraging exploration.\n",
    "\n",
    "## Imitation reward\n",
    "\n",
    "Given a trajectory $g$ sampled from the buffer, and during interaction with the environment, the agent receives a positive reward if the current state has an embedding within some $\\Delta t$ of the current timestep in $g$. Otherwise the imitation reward is 0. Once it reaches the end of $g$, there is no further imitation reward, and it explores randomly. The imitation reward is one of two components of the $r^{DTSIL}_{t}$ RL reward, where the other is a simple monotonic function of the reward received at each timestep.\n",
    "\n",
    "## Policy architecture\n",
    "\n",
    "The DTSIL policy architecture is recurrent and attentional, inspired by machine translation!\n",
    "\n",
    "> Inspired by neural machine translation methods, the demonstration trajectory is the source sequence and the incomplete trajectory of the agent’s state representations is the target sequence. We apply a recurrent neural network and an attention mechanism to the sequence data to predict actions that would make the agent to follow the demonstration trajectory.\n",
    "\n",
    "## RL objective\n",
    "\n",
    "DTSIL is trained using a policy gradient algorithm (PPO, in their experiments), and RL loss\n",
    "\n",
    "$$\\mathcal L^{RL} = {\\mathbb{E}}_{\\pi_\\theta} [-\\log \\pi_\\theta(a_t|e_{\\leq t}, o_t, g) \\widehat{A}_t]$$\n",
    "\n",
    "where $$\\widehat{A}_t=\\sum^{n-1}_{d=0} \\gamma^{d}r^\\text{DTSIL}_{t+d} + \\gamma^n V_\\theta(e_{\\leq t+n}, o_{t+n}, g) - V_\\theta(e_{\\leq t}, o_t, g)$$\n",
    "\n",
    "## SL objective\n",
    "\n",
    "In each parameter optimization step, they also include a supervised loss designed to maximize the log probability of taking an action that imitates the chosed demonstration exactly to better leverage a past trajectory $g$.\n",
    "\n",
    "$$\\mathcal L^\\text{SL} = - \\log \\pi_\\theta(a_t|e_{\\leq t}, o_t, g) \\text{, where } g = \\{e_0, e_1, \\cdots, e_{|g|}\\}$$\n",
    "\n",
    "## Optimization\n",
    "\n",
    "The final parameter update is thus\n",
    "\n",
    "$$\\theta \\gets \\theta - \\eta \\nabla_\\theta (\\mathcal{L}^\\text{RL}+\\beta \\mathcal{L}^\\text{SL})$$"
   ]
  },
  {
   "cell_type": "markdown",
   "metadata": {},
   "source": [
    "# Parting thoughts\n",
    "\n",
    "1. I _love_ seeing methods developed for generative language models used in another context entirely, to generate another kind of sequence. I'm overjoyed that it worked well.\n",
    "2. They need a high-level embedding for two reasons: first because storing entire trajectories exactly in memory is expensive, and second because it's quite difficult to re-execute a previously-encountered trajectory exectly, so in order for this method to work at all it's important that an _approximate_ re-execution be possible."
   ]
  }
 ],
 "metadata": {
  "kernelspec": {
   "display_name": "Python 3",
   "language": "python",
   "name": "python3"
  },
  "language_info": {
   "codemirror_mode": {
    "name": "ipython",
    "version": 3
   },
   "file_extension": ".py",
   "mimetype": "text/x-python",
   "name": "python",
   "nbconvert_exporter": "python",
   "pygments_lexer": "ipython3",
   "version": "3.6.8"
  }
 },
 "nbformat": 4,
 "nbformat_minor": 2
}
