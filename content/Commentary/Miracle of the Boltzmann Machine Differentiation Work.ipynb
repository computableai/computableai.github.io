{
 "cells": [
  {
   "cell_type": "markdown",
   "metadata": {},
   "source": [
    "- title: The Miracle of the Boltzmann Machine: Differentiation Work\n",
    "- summary: Showing my work while reading a fascinating blog post\n",
    "- date: 2019-03-09\n",
    "- status: draft"
   ]
  },
  {
   "cell_type": "markdown",
   "metadata": {},
   "source": [
    "I recently read [The Miracle of the Boltzmann Machine]( https://theneural.wordpress.com/2011/07/08/the-miracle-of-the-boltzmann-machine/), and it's so compelling that I've been thinking about it ever since. I intend to write much more on Boltzmann Machines in the future, but here I'm just going to show my work differentiating the objective function.\n",
    "\n",
    "1. $L(W) := \\mathbb{E}_{D(V)} [log P(V)]$\n",
    "2. $P(X) := P(V,H) := {e^{X^TWX/2}\\over {\\sum_{X'} e^{X'^TWX'/2}}}$\n",
    "3. $P(V) = \\sum_H P(V,H)$\n",
    "4. Want to show $$\\frac{\\partial L}{\\partial w_{ij}} = \\mathbb{E}_{D(V)P(H|V)}[x_ix_j]-\\mathbb{E}_{P(V,H)}[x_ix_j]$$\n",
    "5. $$L(W)=\\mathbb{E}_{D(V)} [\\log P(V)] = \\sum_V D(V)\\log P(V)$$\n",
    "6. Let $f = logP(V)$\n",
    "7. $$\\frac{\\partial L}{\\partial f} = \\sum_V D(V)\\frac{\\partial f}{\\partial w_{ij}}$$\n",
    "8. $$\\frac{\\partial f}{\\partial w_{ij}} = {\\frac{\\partial P(V)}{\\partial w_{ij}} \\over P(V)}$$\n",
    "9. $$\\frac{\\partial P(V)}{\\partial w_{ij}} = \\frac{\\partial}{\\partial w_{ij}}\\left[\\sum_H P(V,H)\\right] = \\frac{\\partial}{\\partial w_{ij}}\\left[\\sum_H {e^{X^TWX/2}\\over {\\sum_{X'} e^{X'^TWX'/2}}}\\right] = \\sum_H \\frac{\\partial}{\\partial w_{ij}}\\left[{e^{X^TWX/2}\\over {\\sum_{X'} e^{X'^TWX'/2}}}\\right]$$\n",
    "10. Quotient rule $$\\frac{\\partial P(V)}{\\partial w_{ij}} =\\sum_H \\frac{\\frac{\\partial}{\\partial w_{ij}}\\left[e^{X^TWX/2}\\right]{\\sum_{X'} e^{X'^TWX'/2}}-e^{X^TWX/2} \\frac{\\partial}{\\partial w_{ij}}\\left[{\\sum_{X'} e^{X'^TWX'/2}}\\right]}{\\left({\\sum_{X'} e^{X'^TWX'/2}}\\right)^2}$$\n",
    "11. $$\\frac{\\partial}{\\partial w_{ij}}\\left[e^{X^TWX/2}\\right] = \\frac{\\partial}{\\partial w_{ij}}\\left[X^TWX/2\\right] e^{X^TWX/2} = x_ix_je^{X^TWX/2}$$\n",
    "12. So #10 becomes $$\\frac{\\partial P(V)}{\\partial w_{ij}} = \\sum_H \\frac{x_ix_je^{X^TWX/2}{\\sum_{X'} e^{X'^TWX'/2}}-e^{X^TWX/2} \\sum_{X'}x'_ix'_je^{X'^TWX'/2}}{\\left({\\sum_{X'} e^{X'^TWX'/2}}\\right)^2}$$\n",
    "13. $$= \\sum_H\\left[\\frac{x_ix_je^{X^TWX/2}{\\sum_{X'} e^{X'^TWX'/2}}}{\\left({\\sum_{X'} e^{X'^TWX'/2}}\\right)^2}\\right]-\\sum_H\\left[\\frac{e^{X^TWX/2} \\sum_{X'}x'_ix'_je^{X'^TWX'/2}}{\\left({\\sum_{X'} e^{X'^TWX'/2}}\\right)^2}\\right]$$\n",
    "14. $$= \\sum_H\\left[\\frac{x_ix_je^{X^TWX/2}}{{\\sum_{X'} e^{X'^TWX'/2}}}\\right]-\\frac{\\sum_H\\left[e^{X^TWX/2}\\right] \\sum_{X'}x'_ix'_je^{X'^TWX'/2}}{\\left({\\sum_{X'} e^{X'^TWX'/2}}\\right)^2}$$\n",
    "15. $$= \\sum_H\\left[x_ix_jP(V,H)\\right]-P(V) \\sum_{X'}\\left[x'_ix'_jP(V',H')\\right]$$\n",
    "16. Substituting #15 into #8 and #8 into #7 we have $$\\frac{\\partial L}{\\partial w_{ij}} = \\sum_VD(V)\\left[\\frac{\\sum_H\\left[x_ix_jP(V,H)\\right]-P(V) \\sum_{X'}\\left[x'_ix'_jP(V',H')\\right]}{P(V)}\\right]$$\n",
    "17. Since $\\sum_VD(V)=1$, and $P(V,H)=P(V)P(H|V)$, and $D(V)P(V|H)=P(V)P(V,H)$ (at equillibrium, because then it doesn't matter whether the hidden neurons arrived at their state $H$ naturally or because $V$ was clamped),\n",
    "18. $$\\frac{\\partial L}{\\partial w_{ij}} = \\sum_V\\sum_H\\left[x_ix_jD(V)P(H|V)\\right]-\\sum_VD(V)\\sum_{X'}\\left[x'_ix'_jP(V',H')\\right]$$\n",
    "19. $$\\frac{\\partial L}{\\partial w_{ij}} =\\sum_{(V,H)}\\left[x_ix_jD(V)P(H|V)\\right]-\\sum_{(V',H')}\\left[x'_ix'_jP(V',H')\\right]$$\n",
    "20. $$\\frac{\\partial L}{\\partial w_{ij}} = \\mathbb{E}_{D(V)P(H|V)}[x_ix_j]-\\mathbb{E}_{P(V,H)}[x_ix_j]$$"
   ]
  }
 ],
 "metadata": {
  "kernelspec": {
   "display_name": "Python 3",
   "language": "python",
   "name": "python3"
  },
  "language_info": {
   "codemirror_mode": {
    "name": "ipython",
    "version": 3
   },
   "file_extension": ".py",
   "mimetype": "text/x-python",
   "name": "python",
   "nbconvert_exporter": "python",
   "pygments_lexer": "ipython3",
   "version": "3.6.8"
  }
 },
 "nbformat": 4,
 "nbformat_minor": 2
}
